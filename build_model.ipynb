{
 "cells": [
  {
   "cell_type": "code",
   "execution_count": 1,
   "metadata": {},
   "outputs": [],
   "source": [
    "# Import the relevant libraries\n",
    "\n",
    "import pandas as pd                # Manage the dataframe \n",
    "import matplotlib.pyplot as plt    # Visualizations\n",
    "import seaborn as sns              # Visulizations"
   ]
  },
  {
   "cell_type": "code",
   "execution_count": 87,
   "metadata": {},
   "outputs": [
    {
     "data": {
      "text/html": [
       "<div>\n",
       "<style scoped>\n",
       "    .dataframe tbody tr th:only-of-type {\n",
       "        vertical-align: middle;\n",
       "    }\n",
       "\n",
       "    .dataframe tbody tr th {\n",
       "        vertical-align: top;\n",
       "    }\n",
       "\n",
       "    .dataframe thead th {\n",
       "        text-align: right;\n",
       "    }\n",
       "</style>\n",
       "<table border=\"1\" class=\"dataframe\">\n",
       "  <thead>\n",
       "    <tr style=\"text-align: right;\">\n",
       "      <th></th>\n",
       "      <th>Location</th>\n",
       "      <th>Length</th>\n",
       "      <th>Width</th>\n",
       "      <th>%_material</th>\n",
       "      <th>OH_Fasteners</th>\n",
       "      <th>Spar_Fasteners</th>\n",
       "      <th>Interface</th>\n",
       "      <th>Complexity</th>\n",
       "    </tr>\n",
       "  </thead>\n",
       "  <tbody>\n",
       "    <tr>\n",
       "      <th>0</th>\n",
       "      <td>12-14</td>\n",
       "      <td>146</td>\n",
       "      <td>30</td>\n",
       "      <td>0.23</td>\n",
       "      <td>7</td>\n",
       "      <td>0</td>\n",
       "      <td>Yes</td>\n",
       "      <td>2</td>\n",
       "    </tr>\n",
       "    <tr>\n",
       "      <th>1</th>\n",
       "      <td>20-27</td>\n",
       "      <td>102</td>\n",
       "      <td>61</td>\n",
       "      <td>0.43</td>\n",
       "      <td>5</td>\n",
       "      <td>3</td>\n",
       "      <td>Yes</td>\n",
       "      <td>1</td>\n",
       "    </tr>\n",
       "    <tr>\n",
       "      <th>2</th>\n",
       "      <td>5-7</td>\n",
       "      <td>126</td>\n",
       "      <td>37</td>\n",
       "      <td>0.24</td>\n",
       "      <td>6</td>\n",
       "      <td>0</td>\n",
       "      <td>No</td>\n",
       "      <td>1</td>\n",
       "    </tr>\n",
       "    <tr>\n",
       "      <th>3</th>\n",
       "      <td>20-27</td>\n",
       "      <td>102</td>\n",
       "      <td>87</td>\n",
       "      <td>0.01</td>\n",
       "      <td>5</td>\n",
       "      <td>3</td>\n",
       "      <td>No</td>\n",
       "      <td>1</td>\n",
       "    </tr>\n",
       "    <tr>\n",
       "      <th>4</th>\n",
       "      <td>20-27</td>\n",
       "      <td>83</td>\n",
       "      <td>61</td>\n",
       "      <td>0.40</td>\n",
       "      <td>4</td>\n",
       "      <td>3</td>\n",
       "      <td>No</td>\n",
       "      <td>1</td>\n",
       "    </tr>\n",
       "  </tbody>\n",
       "</table>\n",
       "</div>"
      ],
      "text/plain": [
       "  Location  Length  Width  %_material  OH_Fasteners  Spar_Fasteners Interface  \\\n",
       "0    12-14     146     30        0.23             7               0       Yes   \n",
       "1    20-27     102     61        0.43             5               3       Yes   \n",
       "2      5-7     126     37        0.24             6               0        No   \n",
       "3    20-27     102     87        0.01             5               3        No   \n",
       "4    20-27      83     61        0.40             4               3        No   \n",
       "\n",
       "   Complexity  \n",
       "0           2  \n",
       "1           1  \n",
       "2           1  \n",
       "3           1  \n",
       "4           1  "
      ]
     },
     "execution_count": 87,
     "metadata": {},
     "output_type": "execute_result"
    }
   ],
   "source": [
    "# Import the data from comaseperated file to pandas dataframe\n",
    "\n",
    "raw_data = pd.read_csv(\"repair_catagorization.csv\")\n",
    "raw_data.head()"
   ]
  },
  {
   "cell_type": "code",
   "execution_count": 141,
   "metadata": {},
   "outputs": [
    {
     "name": "stdout",
     "output_type": "stream",
     "text": [
      "Counter({1: 41, 2: 33, 3: 17, 4: 9})\n",
      "Class=2, Count=33, Percentage=33.00%\n",
      "Class=1, Count=41, Percentage=41.00%\n",
      "Class=4, Count=9, Percentage=9.00%\n",
      "Class=3, Count=17, Percentage=17.00%\n"
     ]
    }
   ],
   "source": [
    "# summarize the class distribution\n",
    "from collections import Counter\n",
    "target = raw_data.values[:,-1]\n",
    "counter = Counter(target)\n",
    "print(counter)\n",
    "for k,v in counter.items():\n",
    "    per = v / len(target) * 100\n",
    "    print('Class=%d, Count=%d, Percentage=%.2f%%' % (k, v, per))"
   ]
  },
  {
   "cell_type": "markdown",
   "metadata": {},
   "source": [
    "The above distribution shows that the dataset is highly skewed"
   ]
  },
  {
   "cell_type": "code",
   "execution_count": 88,
   "metadata": {},
   "outputs": [
    {
     "data": {
      "text/plain": [
       "Location           object\n",
       "Length              int64\n",
       "Width               int64\n",
       "%_material        float64\n",
       "OH_Fasteners        int64\n",
       "Spar_Fasteners      int64\n",
       "Interface          object\n",
       "Complexity          int64\n",
       "dtype: object"
      ]
     },
     "execution_count": 88,
     "metadata": {},
     "output_type": "execute_result"
    }
   ],
   "source": [
    "# Check the datatypes of the columns in the dataset\n",
    "\n",
    "raw_data.dtypes"
   ]
  },
  {
   "cell_type": "markdown",
   "metadata": {},
   "source": [
    "We have three columns with Catagorical data (**Location, Interface and Complexity**), rest of the columns have numeric data.\n",
    "\n",
    "The catagorical data needs to be converted to numerical values before proceding to actual analysis.\n",
    "\n",
    "**Complexity column is the target column.**"
   ]
  },
  {
   "cell_type": "code",
   "execution_count": 89,
   "metadata": {},
   "outputs": [
    {
     "data": {
      "text/html": [
       "<div>\n",
       "<style scoped>\n",
       "    .dataframe tbody tr th:only-of-type {\n",
       "        vertical-align: middle;\n",
       "    }\n",
       "\n",
       "    .dataframe tbody tr th {\n",
       "        vertical-align: top;\n",
       "    }\n",
       "\n",
       "    .dataframe thead th {\n",
       "        text-align: right;\n",
       "    }\n",
       "</style>\n",
       "<table border=\"1\" class=\"dataframe\">\n",
       "  <thead>\n",
       "    <tr style=\"text-align: right;\">\n",
       "      <th></th>\n",
       "      <th>Location</th>\n",
       "      <th>Interface</th>\n",
       "    </tr>\n",
       "  </thead>\n",
       "  <tbody>\n",
       "    <tr>\n",
       "      <th>count</th>\n",
       "      <td>100</td>\n",
       "      <td>100</td>\n",
       "    </tr>\n",
       "    <tr>\n",
       "      <th>unique</th>\n",
       "      <td>10</td>\n",
       "      <td>2</td>\n",
       "    </tr>\n",
       "    <tr>\n",
       "      <th>top</th>\n",
       "      <td>12-14</td>\n",
       "      <td>No</td>\n",
       "    </tr>\n",
       "    <tr>\n",
       "      <th>freq</th>\n",
       "      <td>13</td>\n",
       "      <td>55</td>\n",
       "    </tr>\n",
       "  </tbody>\n",
       "</table>\n",
       "</div>"
      ],
      "text/plain": [
       "       Location Interface\n",
       "count       100       100\n",
       "unique       10         2\n",
       "top       12-14        No\n",
       "freq         13        55"
      ]
     },
     "execution_count": 89,
     "metadata": {},
     "output_type": "execute_result"
    }
   ],
   "source": [
    "# Check the information of columns with object as datatype\n",
    "\n",
    "obj_type = []\n",
    "for i in range(len(raw_data.dtypes)):\n",
    "    if raw_data.dtypes[i] == \"object\":\n",
    "        obj_type.append(i)\n",
    "\n",
    "raw_data.iloc[:, obj_type].describe()"
   ]
  },
  {
   "cell_type": "markdown",
   "metadata": {},
   "source": [
    "#### Location:\n",
    "There are 10 distinct locations. These are spanwise rib locations where the damage was identified and an initial repair has been carried out. This include removal of paint and protective layers, clearing the corrosion by blending.\n",
    "\n",
    "#### Interface:\n",
    "There are two distinct input in this column. This column provides the information on where exactly the damage was found. Is there any attachment at the damaged location."
   ]
  },
  {
   "cell_type": "code",
   "execution_count": 90,
   "metadata": {},
   "outputs": [
    {
     "data": {
      "text/html": [
       "<div>\n",
       "<style scoped>\n",
       "    .dataframe tbody tr th:only-of-type {\n",
       "        vertical-align: middle;\n",
       "    }\n",
       "\n",
       "    .dataframe tbody tr th {\n",
       "        vertical-align: top;\n",
       "    }\n",
       "\n",
       "    .dataframe thead th {\n",
       "        text-align: right;\n",
       "    }\n",
       "</style>\n",
       "<table border=\"1\" class=\"dataframe\">\n",
       "  <thead>\n",
       "    <tr style=\"text-align: right;\">\n",
       "      <th></th>\n",
       "      <th>Location</th>\n",
       "      <th>Length</th>\n",
       "      <th>Width</th>\n",
       "      <th>%_material</th>\n",
       "      <th>OH_Fasteners</th>\n",
       "      <th>Spar_Fasteners</th>\n",
       "      <th>Interface</th>\n",
       "      <th>Complexity</th>\n",
       "    </tr>\n",
       "  </thead>\n",
       "  <tbody>\n",
       "    <tr>\n",
       "      <th>0</th>\n",
       "      <td>12-14</td>\n",
       "      <td>146</td>\n",
       "      <td>30</td>\n",
       "      <td>0.23</td>\n",
       "      <td>7</td>\n",
       "      <td>0</td>\n",
       "      <td>1</td>\n",
       "      <td>2</td>\n",
       "    </tr>\n",
       "    <tr>\n",
       "      <th>1</th>\n",
       "      <td>20-27</td>\n",
       "      <td>102</td>\n",
       "      <td>61</td>\n",
       "      <td>0.43</td>\n",
       "      <td>5</td>\n",
       "      <td>3</td>\n",
       "      <td>1</td>\n",
       "      <td>1</td>\n",
       "    </tr>\n",
       "    <tr>\n",
       "      <th>2</th>\n",
       "      <td>5-7</td>\n",
       "      <td>126</td>\n",
       "      <td>37</td>\n",
       "      <td>0.24</td>\n",
       "      <td>6</td>\n",
       "      <td>0</td>\n",
       "      <td>0</td>\n",
       "      <td>1</td>\n",
       "    </tr>\n",
       "    <tr>\n",
       "      <th>3</th>\n",
       "      <td>20-27</td>\n",
       "      <td>102</td>\n",
       "      <td>87</td>\n",
       "      <td>0.01</td>\n",
       "      <td>5</td>\n",
       "      <td>3</td>\n",
       "      <td>0</td>\n",
       "      <td>1</td>\n",
       "    </tr>\n",
       "    <tr>\n",
       "      <th>4</th>\n",
       "      <td>20-27</td>\n",
       "      <td>83</td>\n",
       "      <td>61</td>\n",
       "      <td>0.40</td>\n",
       "      <td>4</td>\n",
       "      <td>3</td>\n",
       "      <td>0</td>\n",
       "      <td>1</td>\n",
       "    </tr>\n",
       "  </tbody>\n",
       "</table>\n",
       "</div>"
      ],
      "text/plain": [
       "  Location  Length  Width  %_material  OH_Fasteners  Spar_Fasteners  \\\n",
       "0    12-14     146     30        0.23             7               0   \n",
       "1    20-27     102     61        0.43             5               3   \n",
       "2      5-7     126     37        0.24             6               0   \n",
       "3    20-27     102     87        0.01             5               3   \n",
       "4    20-27      83     61        0.40             4               3   \n",
       "\n",
       "   Interface  Complexity  \n",
       "0          1           2  \n",
       "1          1           1  \n",
       "2          0           1  \n",
       "3          0           1  \n",
       "4          0           1  "
      ]
     },
     "execution_count": 90,
     "metadata": {},
     "output_type": "execute_result"
    }
   ],
   "source": [
    "raw_data[\"Interface\"] = raw_data[\"Interface\"].apply(lambda x: 0 if x == \"No\" else 1)\n",
    "raw_data.head()"
   ]
  },
  {
   "cell_type": "code",
   "execution_count": 91,
   "metadata": {},
   "outputs": [
    {
     "data": {
      "text/html": [
       "<div>\n",
       "<style scoped>\n",
       "    .dataframe tbody tr th:only-of-type {\n",
       "        vertical-align: middle;\n",
       "    }\n",
       "\n",
       "    .dataframe tbody tr th {\n",
       "        vertical-align: top;\n",
       "    }\n",
       "\n",
       "    .dataframe thead th {\n",
       "        text-align: right;\n",
       "    }\n",
       "</style>\n",
       "<table border=\"1\" class=\"dataframe\">\n",
       "  <thead>\n",
       "    <tr style=\"text-align: right;\">\n",
       "      <th></th>\n",
       "      <th>Length</th>\n",
       "      <th>Width</th>\n",
       "      <th>%_material</th>\n",
       "      <th>OH_Fasteners</th>\n",
       "      <th>Spar_Fasteners</th>\n",
       "      <th>Interface</th>\n",
       "      <th>Complexity</th>\n",
       "    </tr>\n",
       "  </thead>\n",
       "  <tbody>\n",
       "    <tr>\n",
       "      <th>count</th>\n",
       "      <td>100.000000</td>\n",
       "      <td>100.000000</td>\n",
       "      <td>100.000000</td>\n",
       "      <td>100.000000</td>\n",
       "      <td>100.000000</td>\n",
       "      <td>100.00</td>\n",
       "      <td>100.000000</td>\n",
       "    </tr>\n",
       "    <tr>\n",
       "      <th>mean</th>\n",
       "      <td>112.490000</td>\n",
       "      <td>57.430000</td>\n",
       "      <td>0.408100</td>\n",
       "      <td>5.670000</td>\n",
       "      <td>2.950000</td>\n",
       "      <td>0.45</td>\n",
       "      <td>1.940000</td>\n",
       "    </tr>\n",
       "    <tr>\n",
       "      <th>std</th>\n",
       "      <td>40.991129</td>\n",
       "      <td>17.914079</td>\n",
       "      <td>0.192777</td>\n",
       "      <td>2.055075</td>\n",
       "      <td>2.001893</td>\n",
       "      <td>0.50</td>\n",
       "      <td>0.972553</td>\n",
       "    </tr>\n",
       "    <tr>\n",
       "      <th>min</th>\n",
       "      <td>42.000000</td>\n",
       "      <td>30.000000</td>\n",
       "      <td>0.000000</td>\n",
       "      <td>2.000000</td>\n",
       "      <td>0.000000</td>\n",
       "      <td>0.00</td>\n",
       "      <td>1.000000</td>\n",
       "    </tr>\n",
       "    <tr>\n",
       "      <th>25%</th>\n",
       "      <td>77.500000</td>\n",
       "      <td>41.750000</td>\n",
       "      <td>0.270000</td>\n",
       "      <td>4.000000</td>\n",
       "      <td>2.000000</td>\n",
       "      <td>0.00</td>\n",
       "      <td>1.000000</td>\n",
       "    </tr>\n",
       "    <tr>\n",
       "      <th>50%</th>\n",
       "      <td>111.500000</td>\n",
       "      <td>57.000000</td>\n",
       "      <td>0.440000</td>\n",
       "      <td>6.000000</td>\n",
       "      <td>3.000000</td>\n",
       "      <td>0.00</td>\n",
       "      <td>2.000000</td>\n",
       "    </tr>\n",
       "    <tr>\n",
       "      <th>75%</th>\n",
       "      <td>146.750000</td>\n",
       "      <td>70.000000</td>\n",
       "      <td>0.600000</td>\n",
       "      <td>7.000000</td>\n",
       "      <td>5.000000</td>\n",
       "      <td>1.00</td>\n",
       "      <td>3.000000</td>\n",
       "    </tr>\n",
       "    <tr>\n",
       "      <th>max</th>\n",
       "      <td>180.000000</td>\n",
       "      <td>90.000000</td>\n",
       "      <td>0.600000</td>\n",
       "      <td>9.000000</td>\n",
       "      <td>6.000000</td>\n",
       "      <td>1.00</td>\n",
       "      <td>4.000000</td>\n",
       "    </tr>\n",
       "  </tbody>\n",
       "</table>\n",
       "</div>"
      ],
      "text/plain": [
       "           Length       Width  %_material  OH_Fasteners  Spar_Fasteners  \\\n",
       "count  100.000000  100.000000  100.000000    100.000000      100.000000   \n",
       "mean   112.490000   57.430000    0.408100      5.670000        2.950000   \n",
       "std     40.991129   17.914079    0.192777      2.055075        2.001893   \n",
       "min     42.000000   30.000000    0.000000      2.000000        0.000000   \n",
       "25%     77.500000   41.750000    0.270000      4.000000        2.000000   \n",
       "50%    111.500000   57.000000    0.440000      6.000000        3.000000   \n",
       "75%    146.750000   70.000000    0.600000      7.000000        5.000000   \n",
       "max    180.000000   90.000000    0.600000      9.000000        6.000000   \n",
       "\n",
       "       Interface  Complexity  \n",
       "count     100.00  100.000000  \n",
       "mean        0.45    1.940000  \n",
       "std         0.50    0.972553  \n",
       "min         0.00    1.000000  \n",
       "25%         0.00    1.000000  \n",
       "50%         0.00    2.000000  \n",
       "75%         1.00    3.000000  \n",
       "max         1.00    4.000000  "
      ]
     },
     "execution_count": 91,
     "metadata": {},
     "output_type": "execute_result"
    }
   ],
   "source": [
    "raw_data.describe()"
   ]
  },
  {
   "cell_type": "code",
   "execution_count": 92,
   "metadata": {},
   "outputs": [
    {
     "data": {
      "image/png": "[encoded data removed]",
      "text/plain": [
       "<Figure size 432x288 with 1 Axes>"
      ]
     },
     "metadata": {
      "needs_background": "light"
     },
     "output_type": "display_data"
    }
   ],
   "source": [
    "plt.hist(raw_data.Length, bins = 20);"
   ]
  },
  {
   "cell_type": "code",
   "execution_count": 93,
   "metadata": {},
   "outputs": [
    {
     "data": {
      "text/plain": [
       "<matplotlib.axes._subplots.AxesSubplot at 0x7f8a7eb0ad30>"
      ]
     },
     "execution_count": 93,
     "metadata": {},
     "output_type": "execute_result"
    },
    {
     "data": {
      "image/png": "[encoded data removed]",
      "text/plain": [
       "<Figure size 432x288 with 2 Axes>"
      ]
     },
     "metadata": {
      "needs_background": "light"
     },
     "output_type": "display_data"
    }
   ],
   "source": [
    "raw_data.plot.scatter(x = \"Length\", y = \"Complexity\", c = \"%_material\", cmap = \"viridis\")"
   ]
  },
  {
   "cell_type": "markdown",
   "metadata": {},
   "source": [
    "We see that length is not predominantly driving the complexity of the repair. However, as the **% material loss** increases, we see more number of repairs being catagorised as **Catagory 4** complixity and as the **material loss in low**, the repairs are catagorised as less complex (**Catagory 1**)."
   ]
  },
  {
   "cell_type": "code",
   "execution_count": 94,
   "metadata": {},
   "outputs": [
    {
     "data": {
      "text/plain": [
       "<matplotlib.axes._subplots.AxesSubplot at 0x7f8a7eaa0880>"
      ]
     },
     "execution_count": 94,
     "metadata": {},
     "output_type": "execute_result"
    },
    {
     "data": {
      "image/png": "[encoded data removed]",
      "text/plain": [
       "<Figure size 432x288 with 2 Axes>"
      ]
     },
     "metadata": {
      "needs_background": "light"
     },
     "output_type": "display_data"
    }
   ],
   "source": [
    "raw_data.plot.scatter(x = \"%_material\", y = \"Complexity\", c = \"Interface\", cmap = \"viridis\")"
   ]
  },
  {
   "cell_type": "markdown",
   "metadata": {},
   "source": [
    "The second graph also confirms the assumption as the % depth is increasing, the complexity of the repair is also increasing. \n",
    "\n",
    "Further this graph tells us another key information:\n",
    "The complexity of repair is relatively high for damage locations at the Interface. This is because, the presence of interface calls for high skiled operators and also a **complex / bespoke solutions.**"
   ]
  },
  {
   "cell_type": "code",
   "execution_count": 95,
   "metadata": {},
   "outputs": [
    {
     "data": {
      "text/plain": [
       "<matplotlib.collections.PathCollection at 0x7f8a7e9c8d90>"
      ]
     },
     "execution_count": 95,
     "metadata": {},
     "output_type": "execute_result"
    },
    {
     "data": {
      "image/png": "[encoded data removed]",
      "text/plain": [
       "<Figure size 432x288 with 1 Axes>"
      ]
     },
     "metadata": {
      "needs_background": "light"
     },
     "output_type": "display_data"
    }
   ],
   "source": [
    "plt.scatter(raw_data.Length, raw_data.OH_Fasteners, color = 'blue', marker = '+')\n",
    "plt.scatter(raw_data.Length, raw_data.Spar_Fasteners, color = 'orange', marker = 'x')"
   ]
  },
  {
   "cell_type": "markdown",
   "metadata": {},
   "source": [
    "From the above plot we see that there is a linear correlation between the **Length** and **OH_Fasteners**, **Spar_Fasteners**. \n",
    "\n",
    "This could also be intutively deduced that: **As the length of the damage increases, more number of fasteners are affected along the Overhang and on the Spar**.\n",
    "\n",
    "**Observation:** There are few repair locations with zero Spar fasteners affected."
   ]
  },
  {
   "cell_type": "code",
   "execution_count": 97,
   "metadata": {},
   "outputs": [
    {
     "data": {
      "text/plain": [
       "<matplotlib.collections.PathCollection at 0x7f8a7e903700>"
      ]
     },
     "execution_count": 97,
     "metadata": {},
     "output_type": "execute_result"
    },
    {
     "data": {
      "image/png": "[encoded data removed]",
      "text/plain": [
       "<Figure size 432x288 with 1 Axes>"
      ]
     },
     "metadata": {
      "needs_background": "light"
     },
     "output_type": "display_data"
    }
   ],
   "source": [
    "plt.scatter(raw_data.Width, raw_data.Spar_Fasteners, color = 'blue', marker = '+')"
   ]
  },
  {
   "cell_type": "markdown",
   "metadata": {},
   "source": [
    "The above graph gives a visual confirmation that for locations where the damage is contained in Overhang region alons (Width < 40mm) has no Spar fasteners affected.\n",
    "\n",
    "From above two graph, we see that there is a direct correlation between **Length of the repair/damage and Number of Fasteners (affected at Overhang and Spar)**. Further Width is also not providing any conclusive decision boundary for analysing the complexity of the repair, therefore, **Length and Width** columns can be droped from the analysis features.\n",
    "\n",
    "\n",
    "We can further check and confirm these assumptions based on **Correlation Coefficient**."
   ]
  },
  {
   "cell_type": "code",
   "execution_count": 103,
   "metadata": {},
   "outputs": [
    {
     "data": {
      "text/html": [
       "<div>\n",
       "<style scoped>\n",
       "    .dataframe tbody tr th:only-of-type {\n",
       "        vertical-align: middle;\n",
       "    }\n",
       "\n",
       "    .dataframe tbody tr th {\n",
       "        vertical-align: top;\n",
       "    }\n",
       "\n",
       "    .dataframe thead th {\n",
       "        text-align: right;\n",
       "    }\n",
       "</style>\n",
       "<table border=\"1\" class=\"dataframe\">\n",
       "  <thead>\n",
       "    <tr style=\"text-align: right;\">\n",
       "      <th></th>\n",
       "      <th>Length</th>\n",
       "      <th>Width</th>\n",
       "      <th>%_material</th>\n",
       "      <th>OH_Fasteners</th>\n",
       "      <th>Spar_Fasteners</th>\n",
       "      <th>Interface</th>\n",
       "      <th>Complexity</th>\n",
       "    </tr>\n",
       "  </thead>\n",
       "  <tbody>\n",
       "    <tr>\n",
       "      <th>Length</th>\n",
       "      <td>1.000000</td>\n",
       "      <td>0.095312</td>\n",
       "      <td>-0.055140</td>\n",
       "      <td>0.990818</td>\n",
       "      <td>0.563453</td>\n",
       "      <td>-0.093171</td>\n",
       "      <td>-0.126195</td>\n",
       "    </tr>\n",
       "    <tr>\n",
       "      <th>Width</th>\n",
       "      <td>0.095312</td>\n",
       "      <td>1.000000</td>\n",
       "      <td>-0.022137</td>\n",
       "      <td>0.103765</td>\n",
       "      <td>0.601392</td>\n",
       "      <td>-0.007161</td>\n",
       "      <td>-0.107501</td>\n",
       "    </tr>\n",
       "    <tr>\n",
       "      <th>%_material</th>\n",
       "      <td>-0.055140</td>\n",
       "      <td>-0.022137</td>\n",
       "      <td>1.000000</td>\n",
       "      <td>-0.061006</td>\n",
       "      <td>0.040583</td>\n",
       "      <td>0.179775</td>\n",
       "      <td>0.422852</td>\n",
       "    </tr>\n",
       "    <tr>\n",
       "      <th>OH_Fasteners</th>\n",
       "      <td>0.990818</td>\n",
       "      <td>0.103765</td>\n",
       "      <td>-0.061006</td>\n",
       "      <td>1.000000</td>\n",
       "      <td>0.572933</td>\n",
       "      <td>-0.099778</td>\n",
       "      <td>-0.136353</td>\n",
       "    </tr>\n",
       "    <tr>\n",
       "      <th>Spar_Fasteners</th>\n",
       "      <td>0.563453</td>\n",
       "      <td>0.601392</td>\n",
       "      <td>0.040583</td>\n",
       "      <td>0.572933</td>\n",
       "      <td>1.000000</td>\n",
       "      <td>0.002523</td>\n",
       "      <td>-0.110507</td>\n",
       "    </tr>\n",
       "    <tr>\n",
       "      <th>Interface</th>\n",
       "      <td>-0.093171</td>\n",
       "      <td>-0.007161</td>\n",
       "      <td>0.179775</td>\n",
       "      <td>-0.099778</td>\n",
       "      <td>0.002523</td>\n",
       "      <td>1.000000</td>\n",
       "      <td>0.305351</td>\n",
       "    </tr>\n",
       "    <tr>\n",
       "      <th>Complexity</th>\n",
       "      <td>-0.126195</td>\n",
       "      <td>-0.107501</td>\n",
       "      <td>0.422852</td>\n",
       "      <td>-0.136353</td>\n",
       "      <td>-0.110507</td>\n",
       "      <td>0.305351</td>\n",
       "      <td>1.000000</td>\n",
       "    </tr>\n",
       "  </tbody>\n",
       "</table>\n",
       "</div>"
      ],
      "text/plain": [
       "                  Length     Width  %_material  OH_Fasteners  Spar_Fasteners  \\\n",
       "Length          1.000000  0.095312   -0.055140      0.990818        0.563453   \n",
       "Width           0.095312  1.000000   -0.022137      0.103765        0.601392   \n",
       "%_material     -0.055140 -0.022137    1.000000     -0.061006        0.040583   \n",
       "OH_Fasteners    0.990818  0.103765   -0.061006      1.000000        0.572933   \n",
       "Spar_Fasteners  0.563453  0.601392    0.040583      0.572933        1.000000   \n",
       "Interface      -0.093171 -0.007161    0.179775     -0.099778        0.002523   \n",
       "Complexity     -0.126195 -0.107501    0.422852     -0.136353       -0.110507   \n",
       "\n",
       "                Interface  Complexity  \n",
       "Length          -0.093171   -0.126195  \n",
       "Width           -0.007161   -0.107501  \n",
       "%_material       0.179775    0.422852  \n",
       "OH_Fasteners    -0.099778   -0.136353  \n",
       "Spar_Fasteners   0.002523   -0.110507  \n",
       "Interface        1.000000    0.305351  \n",
       "Complexity       0.305351    1.000000  "
      ]
     },
     "execution_count": 103,
     "metadata": {},
     "output_type": "execute_result"
    }
   ],
   "source": [
    "raw_data.corr()"
   ]
  },
  {
   "cell_type": "code",
   "execution_count": 117,
   "metadata": {},
   "outputs": [
    {
     "data": {
      "text/plain": [
       "<matplotlib.axes._subplots.AxesSubplot at 0x7f8a7a885790>"
      ]
     },
     "execution_count": 117,
     "metadata": {},
     "output_type": "execute_result"
    },
    {
     "data": {
      "image/png": "[encoded data removed]",
      "text/plain": [
       "<Figure size 576x576 with 2 Axes>"
      ]
     },
     "metadata": {
      "needs_background": "light"
     },
     "output_type": "display_data"
    }
   ],
   "source": [
    "plt.figure(figsize = (8,8))\n",
    "sns.heatmap(raw_data.corr(), annot = True)"
   ]
  },
  {
   "cell_type": "markdown",
   "metadata": {},
   "source": [
    "Finally, the location column is handled by using One Hot Encoding (using pandas get_dummies method). \n",
    "\n",
    "https://www.kaggle.com/dansbecker/using-categorical-data-with-one-hot-encoding"
   ]
  },
  {
   "cell_type": "code",
   "execution_count": 118,
   "metadata": {},
   "outputs": [
    {
     "data": {
      "text/html": [
       "<div>\n",
       "<style scoped>\n",
       "    .dataframe tbody tr th:only-of-type {\n",
       "        vertical-align: middle;\n",
       "    }\n",
       "\n",
       "    .dataframe tbody tr th {\n",
       "        vertical-align: top;\n",
       "    }\n",
       "\n",
       "    .dataframe thead th {\n",
       "        text-align: right;\n",
       "    }\n",
       "</style>\n",
       "<table border=\"1\" class=\"dataframe\">\n",
       "  <thead>\n",
       "    <tr style=\"text-align: right;\">\n",
       "      <th></th>\n",
       "      <th>1-5</th>\n",
       "      <th>10-11</th>\n",
       "      <th>11-12</th>\n",
       "      <th>12-14</th>\n",
       "      <th>14-15</th>\n",
       "      <th>15-16</th>\n",
       "      <th>16-20</th>\n",
       "      <th>20-27</th>\n",
       "      <th>5-7</th>\n",
       "      <th>8-10</th>\n",
       "    </tr>\n",
       "  </thead>\n",
       "  <tbody>\n",
       "    <tr>\n",
       "      <th>0</th>\n",
       "      <td>0</td>\n",
       "      <td>0</td>\n",
       "      <td>0</td>\n",
       "      <td>1</td>\n",
       "      <td>0</td>\n",
       "      <td>0</td>\n",
       "      <td>0</td>\n",
       "      <td>0</td>\n",
       "      <td>0</td>\n",
       "      <td>0</td>\n",
       "    </tr>\n",
       "    <tr>\n",
       "      <th>1</th>\n",
       "      <td>0</td>\n",
       "      <td>0</td>\n",
       "      <td>0</td>\n",
       "      <td>0</td>\n",
       "      <td>0</td>\n",
       "      <td>0</td>\n",
       "      <td>0</td>\n",
       "      <td>1</td>\n",
       "      <td>0</td>\n",
       "      <td>0</td>\n",
       "    </tr>\n",
       "    <tr>\n",
       "      <th>2</th>\n",
       "      <td>0</td>\n",
       "      <td>0</td>\n",
       "      <td>0</td>\n",
       "      <td>0</td>\n",
       "      <td>0</td>\n",
       "      <td>0</td>\n",
       "      <td>0</td>\n",
       "      <td>0</td>\n",
       "      <td>1</td>\n",
       "      <td>0</td>\n",
       "    </tr>\n",
       "    <tr>\n",
       "      <th>3</th>\n",
       "      <td>0</td>\n",
       "      <td>0</td>\n",
       "      <td>0</td>\n",
       "      <td>0</td>\n",
       "      <td>0</td>\n",
       "      <td>0</td>\n",
       "      <td>0</td>\n",
       "      <td>1</td>\n",
       "      <td>0</td>\n",
       "      <td>0</td>\n",
       "    </tr>\n",
       "    <tr>\n",
       "      <th>4</th>\n",
       "      <td>0</td>\n",
       "      <td>0</td>\n",
       "      <td>0</td>\n",
       "      <td>0</td>\n",
       "      <td>0</td>\n",
       "      <td>0</td>\n",
       "      <td>0</td>\n",
       "      <td>1</td>\n",
       "      <td>0</td>\n",
       "      <td>0</td>\n",
       "    </tr>\n",
       "  </tbody>\n",
       "</table>\n",
       "</div>"
      ],
      "text/plain": [
       "   1-5  10-11  11-12  12-14  14-15  15-16  16-20  20-27  5-7  8-10\n",
       "0    0      0      0      1      0      0      0      0    0     0\n",
       "1    0      0      0      0      0      0      0      1    0     0\n",
       "2    0      0      0      0      0      0      0      0    1     0\n",
       "3    0      0      0      0      0      0      0      1    0     0\n",
       "4    0      0      0      0      0      0      0      1    0     0"
      ]
     },
     "execution_count": 118,
     "metadata": {},
     "output_type": "execute_result"
    }
   ],
   "source": [
    "dummies = pd.get_dummies(raw_data.Location)\n",
    "dummies.head()"
   ]
  },
  {
   "cell_type": "markdown",
   "metadata": {},
   "source": [
    "Once the dummy columns are created for Location Column, one of the column needs to be deleted from the dummies dataframe. This will avoid Dummy Variable Trap.\n",
    "\n",
    "https://www.algosome.com/articles/dummy-variable-trap-regression.html#:~:text=The%20Dummy%20Variable%20trap%20is,%2Ffemale)%20as%20an%20example."
   ]
  },
  {
   "cell_type": "code",
   "execution_count": 120,
   "metadata": {},
   "outputs": [
    {
     "data": {
      "text/html": [
       "<div>\n",
       "<style scoped>\n",
       "    .dataframe tbody tr th:only-of-type {\n",
       "        vertical-align: middle;\n",
       "    }\n",
       "\n",
       "    .dataframe tbody tr th {\n",
       "        vertical-align: top;\n",
       "    }\n",
       "\n",
       "    .dataframe thead th {\n",
       "        text-align: right;\n",
       "    }\n",
       "</style>\n",
       "<table border=\"1\" class=\"dataframe\">\n",
       "  <thead>\n",
       "    <tr style=\"text-align: right;\">\n",
       "      <th></th>\n",
       "      <th>Location</th>\n",
       "      <th>Length</th>\n",
       "      <th>Width</th>\n",
       "      <th>%_material</th>\n",
       "      <th>OH_Fasteners</th>\n",
       "      <th>Spar_Fasteners</th>\n",
       "      <th>Interface</th>\n",
       "      <th>Complexity</th>\n",
       "      <th>1-5</th>\n",
       "      <th>10-11</th>\n",
       "      <th>11-12</th>\n",
       "      <th>12-14</th>\n",
       "      <th>14-15</th>\n",
       "      <th>15-16</th>\n",
       "      <th>16-20</th>\n",
       "      <th>5-7</th>\n",
       "      <th>8-10</th>\n",
       "    </tr>\n",
       "  </thead>\n",
       "  <tbody>\n",
       "    <tr>\n",
       "      <th>0</th>\n",
       "      <td>12-14</td>\n",
       "      <td>146</td>\n",
       "      <td>30</td>\n",
       "      <td>0.23</td>\n",
       "      <td>7</td>\n",
       "      <td>0</td>\n",
       "      <td>1</td>\n",
       "      <td>2</td>\n",
       "      <td>0</td>\n",
       "      <td>0</td>\n",
       "      <td>0</td>\n",
       "      <td>1</td>\n",
       "      <td>0</td>\n",
       "      <td>0</td>\n",
       "      <td>0</td>\n",
       "      <td>0</td>\n",
       "      <td>0</td>\n",
       "    </tr>\n",
       "    <tr>\n",
       "      <th>1</th>\n",
       "      <td>20-27</td>\n",
       "      <td>102</td>\n",
       "      <td>61</td>\n",
       "      <td>0.43</td>\n",
       "      <td>5</td>\n",
       "      <td>3</td>\n",
       "      <td>1</td>\n",
       "      <td>1</td>\n",
       "      <td>0</td>\n",
       "      <td>0</td>\n",
       "      <td>0</td>\n",
       "      <td>0</td>\n",
       "      <td>0</td>\n",
       "      <td>0</td>\n",
       "      <td>0</td>\n",
       "      <td>0</td>\n",
       "      <td>0</td>\n",
       "    </tr>\n",
       "    <tr>\n",
       "      <th>2</th>\n",
       "      <td>5-7</td>\n",
       "      <td>126</td>\n",
       "      <td>37</td>\n",
       "      <td>0.24</td>\n",
       "      <td>6</td>\n",
       "      <td>0</td>\n",
       "      <td>0</td>\n",
       "      <td>1</td>\n",
       "      <td>0</td>\n",
       "      <td>0</td>\n",
       "      <td>0</td>\n",
       "      <td>0</td>\n",
       "      <td>0</td>\n",
       "      <td>0</td>\n",
       "      <td>0</td>\n",
       "      <td>1</td>\n",
       "      <td>0</td>\n",
       "    </tr>\n",
       "    <tr>\n",
       "      <th>3</th>\n",
       "      <td>20-27</td>\n",
       "      <td>102</td>\n",
       "      <td>87</td>\n",
       "      <td>0.01</td>\n",
       "      <td>5</td>\n",
       "      <td>3</td>\n",
       "      <td>0</td>\n",
       "      <td>1</td>\n",
       "      <td>0</td>\n",
       "      <td>0</td>\n",
       "      <td>0</td>\n",
       "      <td>0</td>\n",
       "      <td>0</td>\n",
       "      <td>0</td>\n",
       "      <td>0</td>\n",
       "      <td>0</td>\n",
       "      <td>0</td>\n",
       "    </tr>\n",
       "    <tr>\n",
       "      <th>4</th>\n",
       "      <td>20-27</td>\n",
       "      <td>83</td>\n",
       "      <td>61</td>\n",
       "      <td>0.40</td>\n",
       "      <td>4</td>\n",
       "      <td>3</td>\n",
       "      <td>0</td>\n",
       "      <td>1</td>\n",
       "      <td>0</td>\n",
       "      <td>0</td>\n",
       "      <td>0</td>\n",
       "      <td>0</td>\n",
       "      <td>0</td>\n",
       "      <td>0</td>\n",
       "      <td>0</td>\n",
       "      <td>0</td>\n",
       "      <td>0</td>\n",
       "    </tr>\n",
       "  </tbody>\n",
       "</table>\n",
       "</div>"
      ],
      "text/plain": [
       "  Location  Length  Width  %_material  OH_Fasteners  Spar_Fasteners  \\\n",
       "0    12-14     146     30        0.23             7               0   \n",
       "1    20-27     102     61        0.43             5               3   \n",
       "2      5-7     126     37        0.24             6               0   \n",
       "3    20-27     102     87        0.01             5               3   \n",
       "4    20-27      83     61        0.40             4               3   \n",
       "\n",
       "   Interface  Complexity  1-5  10-11  11-12  12-14  14-15  15-16  16-20  5-7  \\\n",
       "0          1           2    0      0      0      1      0      0      0    0   \n",
       "1          1           1    0      0      0      0      0      0      0    0   \n",
       "2          0           1    0      0      0      0      0      0      0    1   \n",
       "3          0           1    0      0      0      0      0      0      0    0   \n",
       "4          0           1    0      0      0      0      0      0      0    0   \n",
       "\n",
       "   8-10  \n",
       "0     0  \n",
       "1     0  \n",
       "2     0  \n",
       "3     0  \n",
       "4     0  "
      ]
     },
     "execution_count": 120,
     "metadata": {},
     "output_type": "execute_result"
    }
   ],
   "source": [
    "raw_data_1 = pd.concat([raw_data, dummies.drop(\"20-27\", axis = 1)], axis = 1)\n",
    "raw_data_1.head()"
   ]
  },
  {
   "cell_type": "code",
   "execution_count": 124,
   "metadata": {},
   "outputs": [
    {
     "data": {
      "text/html": [
       "<div>\n",
       "<style scoped>\n",
       "    .dataframe tbody tr th:only-of-type {\n",
       "        vertical-align: middle;\n",
       "    }\n",
       "\n",
       "    .dataframe tbody tr th {\n",
       "        vertical-align: top;\n",
       "    }\n",
       "\n",
       "    .dataframe thead th {\n",
       "        text-align: right;\n",
       "    }\n",
       "</style>\n",
       "<table border=\"1\" class=\"dataframe\">\n",
       "  <thead>\n",
       "    <tr style=\"text-align: right;\">\n",
       "      <th></th>\n",
       "      <th>%_material</th>\n",
       "      <th>OH_Fasteners</th>\n",
       "      <th>Spar_Fasteners</th>\n",
       "      <th>Interface</th>\n",
       "      <th>Complexity</th>\n",
       "      <th>1-5</th>\n",
       "      <th>10-11</th>\n",
       "      <th>11-12</th>\n",
       "      <th>12-14</th>\n",
       "      <th>14-15</th>\n",
       "      <th>15-16</th>\n",
       "      <th>16-20</th>\n",
       "      <th>5-7</th>\n",
       "      <th>8-10</th>\n",
       "    </tr>\n",
       "  </thead>\n",
       "  <tbody>\n",
       "    <tr>\n",
       "      <th>0</th>\n",
       "      <td>0.23</td>\n",
       "      <td>7</td>\n",
       "      <td>0</td>\n",
       "      <td>1</td>\n",
       "      <td>2</td>\n",
       "      <td>0</td>\n",
       "      <td>0</td>\n",
       "      <td>0</td>\n",
       "      <td>1</td>\n",
       "      <td>0</td>\n",
       "      <td>0</td>\n",
       "      <td>0</td>\n",
       "      <td>0</td>\n",
       "      <td>0</td>\n",
       "    </tr>\n",
       "    <tr>\n",
       "      <th>1</th>\n",
       "      <td>0.43</td>\n",
       "      <td>5</td>\n",
       "      <td>3</td>\n",
       "      <td>1</td>\n",
       "      <td>1</td>\n",
       "      <td>0</td>\n",
       "      <td>0</td>\n",
       "      <td>0</td>\n",
       "      <td>0</td>\n",
       "      <td>0</td>\n",
       "      <td>0</td>\n",
       "      <td>0</td>\n",
       "      <td>0</td>\n",
       "      <td>0</td>\n",
       "    </tr>\n",
       "    <tr>\n",
       "      <th>2</th>\n",
       "      <td>0.24</td>\n",
       "      <td>6</td>\n",
       "      <td>0</td>\n",
       "      <td>0</td>\n",
       "      <td>1</td>\n",
       "      <td>0</td>\n",
       "      <td>0</td>\n",
       "      <td>0</td>\n",
       "      <td>0</td>\n",
       "      <td>0</td>\n",
       "      <td>0</td>\n",
       "      <td>0</td>\n",
       "      <td>1</td>\n",
       "      <td>0</td>\n",
       "    </tr>\n",
       "    <tr>\n",
       "      <th>3</th>\n",
       "      <td>0.01</td>\n",
       "      <td>5</td>\n",
       "      <td>3</td>\n",
       "      <td>0</td>\n",
       "      <td>1</td>\n",
       "      <td>0</td>\n",
       "      <td>0</td>\n",
       "      <td>0</td>\n",
       "      <td>0</td>\n",
       "      <td>0</td>\n",
       "      <td>0</td>\n",
       "      <td>0</td>\n",
       "      <td>0</td>\n",
       "      <td>0</td>\n",
       "    </tr>\n",
       "    <tr>\n",
       "      <th>4</th>\n",
       "      <td>0.40</td>\n",
       "      <td>4</td>\n",
       "      <td>3</td>\n",
       "      <td>0</td>\n",
       "      <td>1</td>\n",
       "      <td>0</td>\n",
       "      <td>0</td>\n",
       "      <td>0</td>\n",
       "      <td>0</td>\n",
       "      <td>0</td>\n",
       "      <td>0</td>\n",
       "      <td>0</td>\n",
       "      <td>0</td>\n",
       "      <td>0</td>\n",
       "    </tr>\n",
       "  </tbody>\n",
       "</table>\n",
       "</div>"
      ],
      "text/plain": [
       "   %_material  OH_Fasteners  Spar_Fasteners  Interface  Complexity  1-5  \\\n",
       "0        0.23             7               0          1           2    0   \n",
       "1        0.43             5               3          1           1    0   \n",
       "2        0.24             6               0          0           1    0   \n",
       "3        0.01             5               3          0           1    0   \n",
       "4        0.40             4               3          0           1    0   \n",
       "\n",
       "   10-11  11-12  12-14  14-15  15-16  16-20  5-7  8-10  \n",
       "0      0      0      1      0      0      0    0     0  \n",
       "1      0      0      0      0      0      0    0     0  \n",
       "2      0      0      0      0      0      0    1     0  \n",
       "3      0      0      0      0      0      0    0     0  \n",
       "4      0      0      0      0      0      0    0     0  "
      ]
     },
     "execution_count": 124,
     "metadata": {},
     "output_type": "execute_result"
    }
   ],
   "source": [
    "final_data = raw_data_1.drop([\"Location\", \"Length\", \"Width\"], axis = 1)\n",
    "final_data.head()"
   ]
  },
  {
   "cell_type": "markdown",
   "metadata": {},
   "source": [
    "Finally the columns \"Location\", \"Length\" and \"Width\" are dropped from the dataset before creating the X and y dataset for analysis"
   ]
  },
  {
   "cell_type": "code",
   "execution_count": 131,
   "metadata": {},
   "outputs": [
    {
     "data": {
      "text/plain": [
       "<seaborn.axisgrid.PairGrid at 0x7f8a725ec880>"
      ]
     },
     "execution_count": 131,
     "metadata": {},
     "output_type": "execute_result"
    },
    {
     "data": {
      "image/png": "[encoded data removed]",
      "text/plain": [
       "<Figure size 1260x1260 with 56 Axes>"
      ]
     },
     "metadata": {
      "needs_background": "light"
     },
     "output_type": "display_data"
    }
   ],
   "source": [
    "sns.pairplot(raw_data_1[[\"Length\",\"Width\",\"%_material\",\"OH_Fasteners\",\"Spar_Fasteners\",\"Interface\",\"Complexity\"]])"
   ]
  },
  {
   "cell_type": "code",
   "execution_count": 125,
   "metadata": {},
   "outputs": [],
   "source": [
    "X = final_data.drop(\"Complexity\", axis = 1)\n",
    "y = final_data.Complexity"
   ]
  },
  {
   "cell_type": "code",
   "execution_count": 132,
   "metadata": {},
   "outputs": [],
   "source": [
    "from sklearn.model_selection import train_test_split\n",
    "from sklearn.model_selection import RandomizedSearchCV\n",
    "from sklearn.ensemble import RandomForestClassifier\n",
    "from sklearn.linear_model import LogisticRegressionCV\n",
    "from sklearn.neighbors import KNeighborsClassifier\n",
    "from sklearn.svm import SVC\n",
    "from sklearn.ensemble import ExtraTreesClassifier\n",
    "from sklearn.ensemble import BaggingClassifier"
   ]
  },
  {
   "cell_type": "code",
   "execution_count": 144,
   "metadata": {},
   "outputs": [
    {
     "data": {
      "text/plain": [
       "0.65"
      ]
     },
     "execution_count": 144,
     "metadata": {},
     "output_type": "execute_result"
    }
   ],
   "source": [
    "X_train, X_test, y_train, y_test = train_test_split(X, y, test_size = 0.2, random_state = 0)\n",
    "\n",
    "log_regcv = LogisticRegressionCV(max_iter=15000)\n",
    "log_regcv.fit(X_train, y_train)\n",
    "log_regcv.score(X_test, y_test)"
   ]
  },
  {
   "cell_type": "markdown",
   "metadata": {},
   "source": [
    "### Use K Fold cross Validation to measure accuravy of the Logistic Regression Model"
   ]
  },
  {
   "cell_type": "code",
   "execution_count": 148,
   "metadata": {},
   "outputs": [
    {
     "name": "stdout",
     "output_type": "stream",
     "text": [
      "[0.65 0.7  0.65 0.75 0.7 ]\n",
      "Mean Accuracy for Logistic regression is: 0.690 with a standard deviation of 0.037\n"
     ]
    }
   ],
   "source": [
    "import numpy as np\n",
    "from sklearn.model_selection import ShuffleSplit\n",
    "from sklearn.model_selection import cross_val_score\n",
    "\n",
    "cv = ShuffleSplit(n_splits = 5, test_size = 0.2, random_state = 0)\n",
    "scores = cross_val_score(LogisticRegressionCV(max_iter = 15000), X, y, cv=cv)\n",
    "\n",
    "print(scores)\n",
    "print('Mean Accuracy for Logistic regression is: %.3f with a standard deviation of %.3f' % (np.mean(scores), np.std(scores)))"
   ]
  },
  {
   "cell_type": "markdown",
   "metadata": {},
   "source": [
    "We see that the maximum score is 0.75 from the 5 iterations using Logistic Regression Classifier.\n",
    "\n",
    "**The scores are varying between 0.65 to 0.75.** \n",
    "\n",
    "More consistant results can be predicted by collecting more data and performing the analysis."
   ]
  },
  {
   "cell_type": "code",
   "execution_count": 168,
   "metadata": {},
   "outputs": [
    {
     "data": {
      "text/html": [
       "<div>\n",
       "<style scoped>\n",
       "    .dataframe tbody tr th:only-of-type {\n",
       "        vertical-align: middle;\n",
       "    }\n",
       "\n",
       "    .dataframe tbody tr th {\n",
       "        vertical-align: top;\n",
       "    }\n",
       "\n",
       "    .dataframe thead th {\n",
       "        text-align: right;\n",
       "    }\n",
       "</style>\n",
       "<table border=\"1\" class=\"dataframe\">\n",
       "  <thead>\n",
       "    <tr style=\"text-align: right;\">\n",
       "      <th></th>\n",
       "      <th>Model</th>\n",
       "      <th>Best Parameters</th>\n",
       "      <th>Best Score</th>\n",
       "    </tr>\n",
       "  </thead>\n",
       "  <tbody>\n",
       "    <tr>\n",
       "      <th>0</th>\n",
       "      <td>Log_CV</td>\n",
       "      <td>{'solver': 'sag'}</td>\n",
       "      <td>0.656667</td>\n",
       "    </tr>\n",
       "    <tr>\n",
       "      <th>1</th>\n",
       "      <td>Rand_Forest</td>\n",
       "      <td>{'criterion': 'gini', 'max_depth': 10}</td>\n",
       "      <td>0.630000</td>\n",
       "    </tr>\n",
       "    <tr>\n",
       "      <th>2</th>\n",
       "      <td>KNN_Class</td>\n",
       "      <td>{'algorithm': 'ball_tree', 'weights': 'distance'}</td>\n",
       "      <td>0.400000</td>\n",
       "    </tr>\n",
       "    <tr>\n",
       "      <th>3</th>\n",
       "      <td>SVC</td>\n",
       "      <td>{'gamma': 'scale'}</td>\n",
       "      <td>0.400000</td>\n",
       "    </tr>\n",
       "    <tr>\n",
       "      <th>4</th>\n",
       "      <td>Ex_Tree_Class</td>\n",
       "      <td>{'criterion': 'gini', 'max_depth': 10}</td>\n",
       "      <td>0.670000</td>\n",
       "    </tr>\n",
       "    <tr>\n",
       "      <th>5</th>\n",
       "      <td>Bag_Class</td>\n",
       "      <td>{'warm_start': True}</td>\n",
       "      <td>0.566667</td>\n",
       "    </tr>\n",
       "  </tbody>\n",
       "</table>\n",
       "</div>"
      ],
      "text/plain": [
       "           Model                                    Best Parameters  \\\n",
       "0         Log_CV                                  {'solver': 'sag'}   \n",
       "1    Rand_Forest             {'criterion': 'gini', 'max_depth': 10}   \n",
       "2      KNN_Class  {'algorithm': 'ball_tree', 'weights': 'distance'}   \n",
       "3            SVC                                 {'gamma': 'scale'}   \n",
       "4  Ex_Tree_Class             {'criterion': 'gini', 'max_depth': 10}   \n",
       "5      Bag_Class                               {'warm_start': True}   \n",
       "\n",
       "   Best Score  \n",
       "0    0.656667  \n",
       "1    0.630000  \n",
       "2    0.400000  \n",
       "3    0.400000  \n",
       "4    0.670000  \n",
       "5    0.566667  "
      ]
     },
     "execution_count": 168,
     "metadata": {},
     "output_type": "execute_result"
    }
   ],
   "source": [
    "from sklearn.model_selection import GridSearchCV\n",
    "\n",
    "def best_model(X, y):\n",
    "    algos = {\n",
    "        'Log_CV': {\n",
    "            'model': LogisticRegressionCV(max_iter = 15000),\n",
    "            'params': {\n",
    "                'solver': ['newton-cg', 'lbfgs', 'liblinear', 'sag', 'saga']\n",
    "            }\n",
    "        },\n",
    "        'Rand_Forest': {\n",
    "            'model': RandomForestClassifier(),\n",
    "            'params': {\n",
    "                'criterion': [\"gini\", \"entropy\"],\n",
    "                'max_depth': [5, 10, 15, 20, 25]\n",
    "            }\n",
    "        },\n",
    "       'KNN_Class': {\n",
    "            'model': KNeighborsClassifier(),\n",
    "            'params': {\n",
    "                'weights': ['uniform', 'distance'],\n",
    "                'algorithm': ['auto', 'ball_tree', 'kd_tree', 'brute']\n",
    "            }\n",
    "        },\n",
    "        'SVC': {\n",
    "            'model': SVC(),\n",
    "            'params': {\n",
    "                'gamma': ['scale', 'auto']\n",
    "            }\n",
    "        },\n",
    "        'Ex_Tree_Class': {\n",
    "            'model': ExtraTreesClassifier(),\n",
    "            'params': {\n",
    "                'criterion': [\"gini\", \"entropy\"],\n",
    "                'max_depth': [5, 10, 15, 20, 25]\n",
    "            }\n",
    "        },\n",
    "        'Bag_Class': {\n",
    "            'model': BaggingClassifier(),\n",
    "            'params': {\n",
    "                'warm_start': [True, False]\n",
    "            }\n",
    "        }\n",
    "    }\n",
    "    \n",
    "    scores_1 = []\n",
    "    cv = RepeatedStratifiedKFold(n_splits=5, n_repeats=3, random_state=0)\n",
    "    for algo_name, config in algos.items():\n",
    "        gs = GridSearchCV(config['model'], config['params'], cv=cv, return_train_score=False)\n",
    "        gs.fit(X, y)\n",
    "        scores_1.append({\n",
    "            'Model': algo_name,\n",
    "            'Best Parameters': gs.best_params_,\n",
    "            'Best Score': gs.best_score_\n",
    "        })\n",
    "        #print(\"finished\", algo_name)\n",
    "    \n",
    "    return pd.DataFrame(scores_1, columns = ['Model', 'Best Parameters', 'Best Score'])\n",
    "\n",
    "best_model(X, y)"
   ]
  },
  {
   "cell_type": "markdown",
   "metadata": {},
   "source": [
    "#### From above plot we see that the Extra Tree Classifier, Logistic classifier and Random forest Regression Classifier performs better with the available data."
   ]
  },
  {
   "cell_type": "code",
   "execution_count": 156,
   "metadata": {},
   "outputs": [
    {
     "name": "stdout",
     "output_type": "stream",
     "text": [
      ">Scores for Log_CV: max = 0.900, mean = 0.657, std = 0.098\n",
      ">Scores for Rand_Forest: max = 0.850, mean = 0.620, std = 0.096\n",
      ">Scores for KNN_Class: max = 0.400, mean = 0.327, std = 0.054\n",
      ">Scores for SCV: max = 0.450, mean = 0.400, std = 0.026\n",
      ">Scores for Ex_Tree_Class: max = 0.800, mean = 0.643, std = 0.093\n",
      ">Scores for Bag_Class: max = 0.750, mean = 0.587, std = 0.102\n"
     ]
    }
   ],
   "source": [
    "models = [LogisticRegressionCV(), RandomForestClassifier(), \n",
    "          KNeighborsClassifier(), SVC(), \n",
    "          ExtraTreesClassifier(), BaggingClassifier()]\n",
    "\n",
    "names = [\"Log_CV\", \"Rand_Forest\", \"KNN_Class\",\n",
    "        \"SCV\", \"Ex_Tree_Class\", \"Bag_Class\"]\n",
    "\n",
    "results = list()\n",
    "\n",
    "from sklearn.model_selection import RepeatedStratifiedKFold\n",
    "\n",
    "# evaluate a model\n",
    "def evaluate_model(X, y, model):\n",
    "    # define evaluation procedure\n",
    "    cv = RepeatedStratifiedKFold(n_splits=5, n_repeats=3, random_state=0)\n",
    "    # evaluate model\n",
    "    scores = cross_val_score(model, X, y, scoring='accuracy', cv=cv, n_jobs=-1)\n",
    "    return scores\n",
    "\n",
    "for i in range(len(models)):\n",
    "    scores = evaluate_model(X, y, models[i])\n",
    "    results.append(scores)\n",
    "    print('>Scores for %s: max = %.3f, mean = %.3f, std = %.3f' % (names[i], max(scores), np.mean(scores), np.std(scores)))\n"
   ]
  },
  {
   "cell_type": "code",
   "execution_count": 160,
   "metadata": {},
   "outputs": [
    {
     "data": {
      "image/png": "[encoded data removed]",
      "text/plain": [
       "<Figure size 720x360 with 1 Axes>"
      ]
     },
     "metadata": {
      "needs_background": "light"
     },
     "output_type": "display_data"
    }
   ],
   "source": [
    "plt.figure(figsize = (10,5))\n",
    "plt.boxplot(results, labels=names, showmeans=True)\n",
    "plt.show()"
   ]
  },
  {
   "cell_type": "markdown",
   "metadata": {},
   "source": [
    "#### From above plot we see that the Random forest classifier and Logestic Regression Classifier performs better with the available data. The Extra Tree Classifier also performs good (has higher max score) but also the score values are more spreadout for Extra Tree Classifier.\n",
    "\n",
    "**Finally Logistic Regression is selected for building a model**"
   ]
  },
  {
   "cell_type": "code",
   "execution_count": null,
   "metadata": {},
   "outputs": [],
   "source": []
  }
 ],
 "metadata": {
  "kernelspec": {
   "display_name": "Python 3",
   "language": "python",
   "name": "python3"
  },
  "language_info": {
   "codemirror_mode": {
    "name": "ipython",
    "version": 3
   },
   "file_extension": ".py",
   "mimetype": "text/x-python",
   "name": "python",
   "nbconvert_exporter": "python",
   "pygments_lexer": "ipython3",
   "version": "3.8.3"
  }
 },
 "nbformat": 4,
 "nbformat_minor": 4
}
